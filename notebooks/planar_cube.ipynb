{
 "cells": [
  {
   "attachments": {},
   "cell_type": "markdown",
   "metadata": {},
   "source": [
    "Test Planar Cube data."
   ]
  },
  {
   "cell_type": "code",
   "execution_count": null,
   "metadata": {},
   "outputs": [],
   "source": [
    "import torch\n",
    "from tqdm import tqdm\n",
    "from matplotlib import pyplot as plt\n",
    "import einops\n",
    "\n",
    "from state_encoder_3d.models import (\n",
    "    LatentNeRF, VolumeRenderer, init_weights_normal\n",
    ")\n",
    "from state_encoder_3d.dataset import PlanarCubeDataset"
   ]
  },
  {
   "cell_type": "code",
   "execution_count": null,
   "metadata": {},
   "outputs": [],
   "source": [
    "if torch.cuda.is_available():\n",
    "    device = torch.device(\"cuda:0\")\n",
    "    torch.cuda.set_device(device)\n",
    "else:\n",
    "    device = torch.device(\"cpu\")\n",
    "print(f\"Using device {device}\")"
   ]
  },
  {
   "cell_type": "code",
   "execution_count": null,
   "metadata": {},
   "outputs": [],
   "source": [
    "batch_size = 2\n",
    "dataset = PlanarCubeDataset(\n",
    "    data_store_path=\"../data/planar_cube_grid.zarr\",\n",
    "    max_num_instances=1,\n",
    "    num_views=1,\n",
    ")\n",
    "dataloader = iter(torch.utils.data.DataLoader(dataset, batch_size=batch_size))"
   ]
  },
  {
   "cell_type": "code",
   "execution_count": null,
   "metadata": {},
   "outputs": [],
   "source": [
    "def plot_output_ground_truth(img, depth, gt_img, resolution):\n",
    "    fig, axes = plt.subplots(1, 3, figsize=(18, 6), squeeze=False)\n",
    "    axes[0, 0].imshow(img.cpu().view(*resolution).detach().numpy())\n",
    "    axes[0, 0].set_title(\"Trained MLP\")\n",
    "    axes[0, 1].imshow(gt_img.cpu().view(*resolution).detach().numpy())\n",
    "    axes[0, 1].set_title(\"Ground Truth\")\n",
    "    \n",
    "    depth = depth.cpu().view(*resolution[:2]).detach().numpy()\n",
    "    axes[0, 2].imshow(depth, cmap='Greys')\n",
    "    axes[0, 2].set_title(\"Depth\")\n",
    "    \n",
    "    for i in range(3):\n",
    "        axes[0, i].set_axis_off()\n",
    "\n",
    "    plt.show()"
   ]
  },
  {
   "cell_type": "code",
   "execution_count": null,
   "metadata": {},
   "outputs": [],
   "source": [
    "latent_dim = 256\n",
    "nerf = LatentNeRF(latent_ch=latent_dim).to(device)\n",
    "nerf.apply(init_weights_normal)\n",
    "# Near and far based on z_distances in PlanarCubeEnvironment\n",
    "renderer = VolumeRenderer(near=4, far=13, n_samples=100, white_back=False).to(device)"
   ]
  },
  {
   "cell_type": "code",
   "execution_count": null,
   "metadata": {},
   "outputs": [],
   "source": [
    "# Loss\n",
    "img2mse = lambda x, y: torch.mean((x - y) ** 2)\n",
    "\n",
    "lr = 5e-4\n",
    "optim = torch.optim.Adam(nerf.parameters(), lr=lr, betas=(0.9, 0.999))"
   ]
  },
  {
   "cell_type": "code",
   "execution_count": null,
   "metadata": {},
   "outputs": [],
   "source": [
    "# Constant latent as we have a single scene\n",
    "latent = 0.1*torch.rand((1,latent_dim), device=device)\n",
    "latent = einops.repeat(latent, \"b ... -> (repeat b) ...\", repeat=batch_size)\n",
    "\n",
    "num_steps = 10001\n",
    "steps_til_summary = 100\n",
    "for step in tqdm(range(num_steps)):\n",
    "    model_input, gt_image = next(dataloader)\n",
    "    xy_pix = model_input['x_pix'].to(device)\n",
    "    intrinsics = model_input['intrinsics'].to(device)\n",
    "    c2w = model_input['cam2world'].to(device)\n",
    "    \n",
    "    rgb, depth = renderer(c2w, intrinsics, xy_pix, nerf, latent)\n",
    "\n",
    "    loss = img2mse(rgb, gt_image.to(device))\n",
    "\n",
    "    optim.zero_grad()\n",
    "    loss.backward()\n",
    "    optim.step()\n",
    "\n",
    "    # Every so often, we want to show what our model has learned.\n",
    "    # It would be boring otherwise!\n",
    "    if not step % steps_til_summary:\n",
    "        print(f\"Step {step}: loss = {float(loss.detach().cpu()):.5f}\")\n",
    "\n",
    "        plot_output_ground_truth(rgb[0], depth[0], gt_image[0], resolution=(64,64,3))"
   ]
  }
 ],
 "metadata": {
  "kernelspec": {
   "display_name": "state_encoder_3d_env",
   "language": "python",
   "name": "python3"
  },
  "language_info": {
   "codemirror_mode": {
    "name": "ipython",
    "version": 3
   },
   "file_extension": ".py",
   "mimetype": "text/x-python",
   "name": "python",
   "nbconvert_exporter": "python",
   "pygments_lexer": "ipython3",
   "version": "3.8.10"
  },
  "orig_nbformat": 4
 },
 "nbformat": 4,
 "nbformat_minor": 2
}
