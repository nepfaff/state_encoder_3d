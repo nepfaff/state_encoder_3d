{
 "cells": [
  {
   "attachments": {},
   "cell_type": "markdown",
   "metadata": {},
   "source": [
    "Tests a 2D image autoencoder."
   ]
  },
  {
   "cell_type": "code",
   "execution_count": null,
   "metadata": {},
   "outputs": [],
   "source": [
    "\n",
    "import torch\n",
    "import matplotlib.pyplot as plt\n",
    "from tqdm import tqdm\n",
    "\n",
    "from state_encoder_3d.models import CompNeRFImageEncoder, CNNImageDecoder\n",
    "from state_encoder_3d.dataset import MNISTDataset"
   ]
  },
  {
   "cell_type": "code",
   "execution_count": null,
   "metadata": {},
   "outputs": [],
   "source": [
    "if torch.cuda.is_available():\n",
    "    device = torch.device(\"cuda:0\")\n",
    "    torch.cuda.set_device(device)\n",
    "else:\n",
    "    device = torch.device(\"cpu\")\n",
    "print(f\"Using device {device}\")"
   ]
  },
  {
   "cell_type": "code",
   "execution_count": null,
   "metadata": {},
   "outputs": [],
   "source": [
    "def plot_output_ground_truth(model_output, ground_truth, resolution):\n",
    "    fig, axes = plt.subplots(1, 2, figsize=(12, 6), squeeze=False)\n",
    "    axes[0, 0].imshow(model_output.cpu().view(*resolution).detach().numpy())\n",
    "    axes[0, 0].set_title(\"Trained MLP\")\n",
    "    axes[0, 1].imshow(ground_truth.cpu().view(*resolution).detach().numpy())\n",
    "    axes[0, 1].set_title(\"Ground Truth\")\n",
    "       \n",
    "    for i in range(2):\n",
    "        axes[0, i].set_axis_off()\n",
    "\n",
    "    plt.show()"
   ]
  },
  {
   "cell_type": "code",
   "execution_count": null,
   "metadata": {},
   "outputs": [],
   "source": [
    "# Use this as the dataloader when overfitting on a single image\n",
    "def image_generator():\n",
    "    dataset = MNISTDataset()\n",
    "    while True:\n",
    "        yield dataset[0]\n",
    "data_generator = image_generator()\n",
    "\n",
    "dataloader = torch.utils.data.DataLoader(MNISTDataset(), batch_size=512, shuffle=True)"
   ]
  },
  {
   "cell_type": "code",
   "execution_count": null,
   "metadata": {},
   "outputs": [],
   "source": [
    "latent_dim = 64\n",
    "encoder = CompNeRFImageEncoder(out_ch=latent_dim, in_ch=1, resnet_out_dim=2048).to(device)\n",
    "# NOTE: num_up is determined by the image resolution as we need to upsample to that resolution\n",
    "decoder = CNNImageDecoder(in_ch=latent_dim, hidden_ch=128, out_ch=1, num_up=6).to(device)"
   ]
  },
  {
   "cell_type": "code",
   "execution_count": null,
   "metadata": {},
   "outputs": [],
   "source": [
    "# Loss\n",
    "img2mse = lambda x, y: torch.mean((x - y) ** 2)\n",
    "\n",
    "lr = 1e-4\n",
    "encoder_optim = torch.optim.Adam(encoder.parameters(), lr=lr)\n",
    "decoder_optim = torch.optim.Adam(decoder.parameters(), lr=lr)"
   ]
  },
  {
   "cell_type": "code",
   "execution_count": null,
   "metadata": {},
   "outputs": [],
   "source": [
    "num_steps = 5001\n",
    "steps_til_summary = 500\n",
    "for step in tqdm(range(num_steps)):\n",
    "    image = next(iter(dataloader)).to(device)\n",
    "\n",
    "    latent = encoder(image)\n",
    "    predicted_image = decoder(latent)\n",
    "\n",
    "    loss = img2mse(image, predicted_image)\n",
    "\n",
    "    encoder_optim.zero_grad()\n",
    "    decoder_optim.zero_grad()\n",
    "    loss.backward()\n",
    "    encoder_optim.step()\n",
    "    decoder_optim.step()\n",
    "\n",
    "    # Every so often, we want to show what our model has learned.\n",
    "    # It would be boring otherwise!\n",
    "    if not step % steps_til_summary:\n",
    "        print(f\"Step {step}: loss = {float(loss.detach().cpu()):.5f}\")\n",
    "\n",
    "        plot_output_ground_truth(predicted_image[0], image[0], resolution=(64, 64))\n"
   ]
  }
 ],
 "metadata": {
  "kernelspec": {
   "display_name": "3d_state_encoder_env",
   "language": "python",
   "name": "python3"
  },
  "language_info": {
   "codemirror_mode": {
    "name": "ipython",
    "version": 3
   },
   "file_extension": ".py",
   "mimetype": "text/x-python",
   "name": "python",
   "nbconvert_exporter": "python",
   "pygments_lexer": "ipython3",
   "version": "3.8.10"
  },
  "orig_nbformat": 4
 },
 "nbformat": 4,
 "nbformat_minor": 2
}
