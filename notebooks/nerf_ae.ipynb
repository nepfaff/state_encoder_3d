{
 "cells": [
  {
   "attachments": {},
   "cell_type": "markdown",
   "metadata": {},
   "source": [
    "Test NeRF autoencoder"
   ]
  },
  {
   "cell_type": "code",
   "execution_count": null,
   "metadata": {},
   "outputs": [],
   "source": [
    "import os\n",
    "\n",
    "import torch\n",
    "from tqdm import tqdm\n",
    "from matplotlib import pyplot as plt\n",
    "import einops\n",
    "\n",
    "from state_encoder_3d.models import (\n",
    "    LatentNeRF,\n",
    "    VolumeRenderer,\n",
    "    CompNeRFStateEncoder,\n",
    "    init_weights_normal,\n",
    ")\n",
    "from state_encoder_3d.dataset import SRNsCarsDataset"
   ]
  },
  {
   "cell_type": "code",
   "execution_count": null,
   "metadata": {},
   "outputs": [],
   "source": [
    "if not os.path.exists(\"cars_train.hdf5\"):\n",
    "    # Download SRNs-cars dataset\n",
    "    !gdown 1SBjlsizq0sFNkCZxMQh-pNRi0HyFozKb"
   ]
  },
  {
   "cell_type": "code",
   "execution_count": null,
   "metadata": {},
   "outputs": [],
   "source": [
    "if torch.cuda.is_available():\n",
    "    device = torch.device(\"cuda:0\")\n",
    "    torch.cuda.set_device(device)\n",
    "else:\n",
    "    device = torch.device(\"cpu\")\n",
    "print(f\"Using device {device}\")"
   ]
  },
  {
   "cell_type": "code",
   "execution_count": null,
   "metadata": {},
   "outputs": [],
   "source": [
    "def plot_output_ground_truth(img, depth, gt_img, resolution):\n",
    "    fig, axes = plt.subplots(1, 3, figsize=(18, 6), squeeze=False)\n",
    "    axes[0, 0].imshow(img.cpu().view(*resolution).detach().numpy())\n",
    "    axes[0, 0].set_title(\"Trained MLP\")\n",
    "    axes[0, 1].imshow(gt_img.cpu().view(*resolution).detach().numpy())\n",
    "    axes[0, 1].set_title(\"Ground Truth\")\n",
    "\n",
    "    depth = depth.cpu().view(*resolution[:2]).detach().numpy()\n",
    "    axes[0, 2].imshow(depth, cmap=\"Greys\")\n",
    "    axes[0, 2].set_title(\"Depth\")\n",
    "\n",
    "    for i in range(3):\n",
    "        axes[0, i].set_axis_off()\n",
    "\n",
    "    plt.show()"
   ]
  },
  {
   "cell_type": "code",
   "execution_count": null,
   "metadata": {},
   "outputs": [],
   "source": [
    "img_sl = 64\n",
    "batch_size = 1\n",
    "num_views = 10\n",
    "dataset = SRNsCarsDataset(\n",
    "    max_num_instances=None, img_sidelength=img_sl, num_views=num_views, rand_views=True\n",
    ")\n",
    "dataloader = iter(torch.utils.data.DataLoader(dataset, batch_size=batch_size))"
   ]
  },
  {
   "cell_type": "code",
   "execution_count": null,
   "metadata": {},
   "outputs": [],
   "source": [
    "latent_dim = 256\n",
    "lr = 1e-4\n",
    "\n",
    "encoder = CompNeRFStateEncoder(out_ch=latent_dim, in_ch=3, resnet_out_dim=2048).to(\n",
    "    device\n",
    ")\n",
    "nerf = LatentNeRF(latent_ch=latent_dim).to(device)\n",
    "nerf.apply(init_weights_normal)\n",
    "renderer = VolumeRenderer(near=1.0, far=2.5, n_samples=100, white_back=True).to(device)\n",
    "\n",
    "encoder_optim = torch.optim.Adam(encoder.parameters(), lr=lr, betas=(0.9, 0.999))\n",
    "nerf_optim = torch.optim.Adam(nerf.parameters(), lr=lr, betas=(0.9, 0.999))\n",
    "\n",
    "img2mse = lambda x, y: torch.mean((x - y) ** 2)"
   ]
  },
  {
   "cell_type": "code",
   "execution_count": null,
   "metadata": {},
   "outputs": [],
   "source": [
    "LOAD_CHECKPOINT = True\n",
    "ckpt_path_encoder = \"../outputs/encoder_279000\"\n",
    "ckpt_path_nerf = \"../outputs/nerf_279000\"\n",
    "if LOAD_CHECKPOINT:\n",
    "    ckpt_encoder = torch.load(ckpt_path_encoder, map_location=device)\n",
    "    ckpt_nerf = torch.load(ckpt_path_nerf, map_location=device)\n",
    "    encoder.load_state_dict(ckpt_encoder[\"trainer_state_dict\"])\n",
    "    nerf.load_state_dict(ckpt_nerf[\"trainer_state_dict\"])"
   ]
  },
  {
   "cell_type": "code",
   "execution_count": null,
   "metadata": {},
   "outputs": [],
   "source": [
    "num_img_encoded = 8\n",
    "num_img_decoded = 2\n",
    "\n",
    "num_steps = 500001\n",
    "steps_til_summary = 100\n",
    "for step in tqdm(range(num_steps)):\n",
    "    model_input = next(dataloader)\n",
    "    gt_image = model_input[\"rgb\"].to(device)\n",
    "    xy_pix = model_input[\"x_pix\"].to(device)\n",
    "    intrinsics = model_input[\"intrinsics\"].to(device)\n",
    "    c2w = model_input[\"cam2world\"].to(device)\n",
    "\n",
    "    encoder_input = gt_image.view(batch_size, num_views, img_sl, img_sl, 3).permute(\n",
    "        0, 1, 4, 2, 3\n",
    "    )[:, :num_img_encoded]\n",
    "    encoder_input_dict = {\n",
    "        \"images\": encoder_input,\n",
    "        \"extrinsics\": c2w[:, :num_img_encoded],\n",
    "    }\n",
    "    latent = encoder(encoder_input_dict)\n",
    "\n",
    "    xy_pix = einops.repeat(\n",
    "        xy_pix, \"B N c -> B num_decoded N c\", num_decoded=num_img_decoded\n",
    "    ).reshape(batch_size * num_img_decoded, *xy_pix.shape[-2:])\n",
    "    c2w_decoded = c2w[:, -num_img_decoded:].reshape(batch_size * num_img_decoded, 4, 4)\n",
    "    intrinsics = einops.repeat(\n",
    "        intrinsics, \"B x y -> B num_decoded x y\", num_decoded=num_img_decoded\n",
    "    ).reshape(batch_size * num_img_decoded, 3, 3)\n",
    "    latent = einops.repeat(\n",
    "        latent, \"B D -> B num_decoded D\", num_decoded=num_img_decoded\n",
    "    ).reshape(batch_size * num_img_decoded, -1)\n",
    "    rgb, depth = renderer(c2w_decoded, intrinsics, xy_pix, nerf, latent)\n",
    "\n",
    "    gt_decoded_image = gt_image[:, -num_img_decoded:].view(\n",
    "        batch_size * num_img_decoded, *gt_image.shape[-2:]\n",
    "    )\n",
    "\n",
    "    loss = img2mse(rgb, gt_decoded_image)\n",
    "\n",
    "    encoder_optim.zero_grad()\n",
    "    nerf_optim.zero_grad()\n",
    "    loss.backward()\n",
    "    encoder_optim.step()\n",
    "    nerf_optim.step()\n",
    "\n",
    "    # Every so often, we want to show what our model has learned.\n",
    "    # It would be boring otherwise!\n",
    "    if not step % steps_til_summary:\n",
    "        print(f\"Step {step}: loss = {float(loss.detach().cpu()):.5f}\")\n",
    "\n",
    "        plot_output_ground_truth(\n",
    "            rgb[0], depth[0], gt_decoded_image[0], resolution=(img_sl, img_sl, 3)\n",
    "        )"
   ]
  },
  {
   "cell_type": "code",
   "execution_count": null,
   "metadata": {},
   "outputs": [],
   "source": []
  }
 ],
 "metadata": {
  "kernelspec": {
   "display_name": "state_encoder_3d_env",
   "language": "python",
   "name": "python3"
  },
  "language_info": {
   "codemirror_mode": {
    "name": "ipython",
    "version": 3
   },
   "file_extension": ".py",
   "mimetype": "text/x-python",
   "name": "python",
   "nbconvert_exporter": "python",
   "pygments_lexer": "ipython3",
   "version": "3.8.10"
  },
  "orig_nbformat": 4
 },
 "nbformat": 4,
 "nbformat_minor": 2
}
